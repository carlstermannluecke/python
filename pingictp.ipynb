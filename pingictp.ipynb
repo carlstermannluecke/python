{
  "nbformat": 4,
  "nbformat_minor": 0,
  "metadata": {
    "colab": {
      "name": "pingictp.ipynb",
      "provenance": [],
      "include_colab_link": true
    },
    "kernelspec": {
      "name": "python3",
      "display_name": "Python 3"
    }
  },
  "cells": [
    {
      "cell_type": "markdown",
      "metadata": {
        "id": "view-in-github",
        "colab_type": "text"
      },
      "source": [
        "<a href=\"https://colab.research.google.com/github/zainabnazari/python/blob/master/pingictp.ipynb\" target=\"_parent\"><img src=\"https://colab.research.google.com/assets/colab-badge.svg\" alt=\"Open In Colab\"/></a>"
      ]
    },
    {
      "cell_type": "code",
      "metadata": {
        "id": "JjP54faatBov",
        "colab_type": "code",
        "outputId": "676d4d3b-8c70-4666-9e8d-57b1d743ad8e",
        "colab": {
          "base_uri": "https://localhost:8080/",
          "height": 243
        }
      },
      "source": [
        "import numpy as np\n",
        "from numpy.random import choice\n",
        "def tour(b,r):\n",
        "    c=b.size//2\n",
        "    pair=choice(b, size=(c,2), replace=False)\n",
        "    print(\"************************\")\n",
        "    print(\"This is the\",r,\"round\")\n",
        "    print(pair)\n",
        "    if b.size % 2 ==1:\n",
        "     notchosen=b[np.isin(b, pair)==False]\n",
        "     print(\"Number\", notchosen, \"needs to wait.\")\n",
        "    winners=np.asarray(eval(input(\"Who (are) is the winner(s)? \")))\n",
        "    if b.size %2==1:\n",
        "     if winners.size>1:\n",
        "       lucky=np.asarray(choice(winners, size=(notchosen.size)))\n",
        "     else:\n",
        "      lucky=winners\n",
        "     print(\"Number\", notchosen, \"needs to play against\", lucky)\n",
        "     who=np.asarray(eval(input(\"Who won? \")))\n",
        "     winners=np.asarray(np.where(winners==lucky, who, winners))\n",
        "    return winners\n",
        "p=input(\"Number of players: \")\n",
        "a=eval(p)\n",
        "r=1\n",
        "people=np.arange(a)\n",
        "while people.size>=2:\n",
        "      people=np.asarray(tour(people,r))\n",
        "      r=r+1\n",
        "print(\"Cheers!\")"
      ],
      "execution_count": 0,
      "outputs": [
        {
          "output_type": "stream",
          "text": [
            "************************\n",
            "This is the 1 round\n",
            "[[1 2]\n",
            " [5 3]\n",
            " [8 4]\n",
            " [0 6]]\n",
            "Number [7] needs to wait.\n",
            "Number [7] needs to play against [1]\n",
            "************************\n",
            "This is the 2 round\n",
            "[[9 7]\n",
            " [8 5]]\n",
            "Number [0] needs to wait.\n"
          ],
          "name": "stdout"
        }
      ]
    }
  ]
}